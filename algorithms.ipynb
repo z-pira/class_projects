{
 "cells": [
  {
   "cell_type": "markdown",
   "id": "17df4ef9",
   "metadata": {},
   "source": [
    "## Binary Search"
   ]
  },
  {
   "cell_type": "markdown",
   "id": "d136db20",
   "metadata": {},
   "source": [
    "In binary search, we divide the sorted array into two parts and compare the desired item with the middle element. If it is equal, it is the middle element and the desired item is found. Otherwise, we have two ways, which are:\n",
    "    1)If the desired item is smaller than the middle element. In this case, we divide the left part of the array into two parts         like the first work and continue to find the item.\n",
    "    2)If the desired item is bigger than the middle element. In this case, we divide the right part of the array into two parts         as before and continue to find the item."
   ]
  },
  {
   "cell_type": "code",
   "execution_count": 2,
   "id": "21b3d287",
   "metadata": {},
   "outputs": [
    {
     "name": "stdout",
     "output_type": "stream",
     "text": [
      "None\n",
      "1\n"
     ]
    }
   ],
   "source": [
    "def binary_search(my_list, item):\n",
    "    low = 0 #\n",
    "    high = len(my_list)-1\n",
    "   \n",
    "    while low <= high:\n",
    "        mid = int((low + high) / 2)\n",
    "        guess = my_list[mid]\n",
    "        \n",
    "        #if item equal to guess and item found\n",
    "        if guess == item:\n",
    "            return mid\n",
    "        \n",
    "        #if guess was too high\n",
    "        elif guess > item:\n",
    "            high = mid - 1\n",
    "        \n",
    "        #if guess was too low\n",
    "        else:\n",
    "            low = mid + 1\n",
    "        \n",
    "    return None #the item does'nt exist\n",
    "    \n",
    "my_list = [3,6,8,9,12]\n",
    "print(binary_search(my_list, 13))\n",
    "print(binary_search(my_list, 6))"
   ]
  },
  {
   "cell_type": "markdown",
   "id": "0d8c5f06",
   "metadata": {},
   "source": [
    "## Quick Sort"
   ]
  },
  {
   "cell_type": "markdown",
   "id": "180db259",
   "metadata": {},
   "source": [
    "In the quick sort algorithm, one element of the array is considered as a pivot and we compare each subsequent element with it. If the element is small, it goes before the pivot, and if it is large, it remains in its place until the array is sorted."
   ]
  },
  {
   "cell_type": "code",
   "execution_count": 1,
   "id": "476eb310",
   "metadata": {},
   "outputs": [
    {
     "name": "stdout",
     "output_type": "stream",
     "text": [
      "[1, 4, 5, 6, 7, 9]\n"
     ]
    }
   ],
   "source": [
    "def quick_sort(array):\n",
    "    \n",
    "    if len(array) < 2:\n",
    "        return array #already sorted\n",
    "    else:\n",
    "        pivot = array[0] #recursive case\n",
    "        \n",
    "        less = [i for i in array[1:] if i <= pivot] #subarray of all lelemnts less than or equal pivot\n",
    "        greater = [i for i in array[1:] if i > pivot] #subarray of all lelemnts greater than pivot\n",
    "        \n",
    "        return quick_sort(less) + [pivot] + quick_sort(greater)\n",
    "    \n",
    "array = [6, 9, 5, 1, 4, 7]\n",
    "print(quick_sort(array))"
   ]
  },
  {
   "cell_type": "markdown",
   "id": "a70e7d47",
   "metadata": {},
   "source": [
    "## Dijkstra "
   ]
  },
  {
   "cell_type": "markdown",
   "id": "a4476496",
   "metadata": {},
   "source": [
    "In the dijkstra's algorithm, we consider graph and in this graph we name one vertex as the starting vertex, the weight of this vertex is considered zero, and the weight of the rest of the vertices is set to infinity. After this, we write all the neighbors of the starting vertex. and we put their weights and after this we choose the smallest possible value and then find the neighbors from the selected vertex and write down their weights and again choose the smallest possible value and continue until there are no vertices left. But we must consider that it should not be created cycle"
   ]
  },
  {
   "cell_type": "code",
   "execution_count": 3,
   "id": "749d8d03",
   "metadata": {},
   "outputs": [],
   "source": [
    "import sys"
   ]
  },
  {
   "cell_type": "code",
   "execution_count": 4,
   "id": "6bee80f0",
   "metadata": {},
   "outputs": [],
   "source": [
    "# Providing the graph\n",
    "vertices = [[0, 0, 1, 1, 0, 0, 0],\n",
    "            [0, 0, 1, 0, 0, 1, 0],\n",
    "            [1, 1, 0, 1, 1, 0, 0],\n",
    "            [1, 0, 1, 0, 0, 0, 1],\n",
    "            [0, 0, 1, 0, 0, 1, 0],\n",
    "            [0, 1, 0, 0, 1, 0, 1],\n",
    "            [0, 0, 0, 1, 0, 1, 0]]\n",
    "\n",
    "edges = [[0, 0, 1, 2, 0, 0, 0],\n",
    "         [0, 0, 2, 0, 0, 3, 0],\n",
    "         [1, 2, 0, 1, 3, 0, 0],\n",
    "         [2, 0, 1, 0, 0, 0, 1],\n",
    "         [0, 0, 3, 0, 0, 2, 0],\n",
    "         [0, 3, 0, 0, 2, 0, 1],\n",
    "         [0, 0, 0, 1, 0, 1, 0]]\n"
   ]
  },
  {
   "cell_type": "code",
   "execution_count": 5,
   "id": "5564ee69",
   "metadata": {},
   "outputs": [
    {
     "name": "stdout",
     "output_type": "stream",
     "text": [
      "Distance of  a  from source vertex:  0\n",
      "Distance of  b  from source vertex:  3\n",
      "Distance of  c  from source vertex:  1\n",
      "Distance of  d  from source vertex:  2\n",
      "Distance of  e  from source vertex:  4\n",
      "Distance of  f  from source vertex:  4\n",
      "Distance of  g  from source vertex:  3\n"
     ]
    }
   ],
   "source": [
    "# Find which vertex is to be visited next\n",
    "def to_be_visited():\n",
    "    global visited_and_distance\n",
    "    v = -10\n",
    "    for index in range(num_of_vertices):\n",
    "        if visited_and_distance[index][0] == 0 \\\n",
    "            and (v < 0 or visited_and_distance[index][1] <=\n",
    "                 visited_and_distance[v][1]):\n",
    "            v = index\n",
    "    return v\n",
    "\n",
    "\n",
    "num_of_vertices = len(vertices[0])\n",
    "\n",
    "visited_and_distance = [[0, 0]]\n",
    "for i in range(num_of_vertices-1):\n",
    "    visited_and_distance.append([0, sys.maxsize])\n",
    "\n",
    "for vertex in range(num_of_vertices):\n",
    "\n",
    "    # Find next vertex to be visited\n",
    "    to_visit = to_be_visited()\n",
    "    for neighbor_index in range(num_of_vertices):\n",
    "\n",
    "        # Updating new distances\n",
    "        if vertices[to_visit][neighbor_index] == 1 and \\\n",
    "                visited_and_distance[neighbor_index][0] == 0:\n",
    "            new_distance = visited_and_distance[to_visit][1] \\\n",
    "                + edges[to_visit][neighbor_index]\n",
    "            if visited_and_distance[neighbor_index][1] > new_distance:\n",
    "                visited_and_distance[neighbor_index][1] = new_distance\n",
    "        \n",
    "        visited_and_distance[to_visit][0] = 1\n",
    "\n",
    "i = 0\n",
    "\n",
    "# Printing the distance\n",
    "for distance in visited_and_distance:\n",
    "    print(\"Distance of \", chr(ord('a') + i),\n",
    "          \" from source vertex: \", distance[1])\n",
    "    i = i + 1"
   ]
  },
  {
   "cell_type": "markdown",
   "id": "4541e98d",
   "metadata": {},
   "source": [
    "## prim's Algoritm"
   ]
  },
  {
   "cell_type": "markdown",
   "id": "a344a845",
   "metadata": {},
   "source": [
    "In Prim's algorithm we consider a graph and the matrix of this graph is as follows: we set zero from the vertex to itself, and if there is a path between the vertices, we set the weight, and if not, we set the infinity, and then from among these vertices, we set the vertex as We choose the initiator and choose the shortest path between its neighbors and kill that vertex, we continue this until there are no vertices left and no cycle is created."
   ]
  },
  {
   "cell_type": "code",
   "execution_count": 6,
   "id": "945b2497",
   "metadata": {},
   "outputs": [
    {
     "name": "stdout",
     "output_type": "stream",
     "text": [
      "Edge : Weight\n",
      "\n",
      "0-1:9\n",
      "1-3:19\n",
      "3-4:31\n",
      "3-2:51\n"
     ]
    }
   ],
   "source": [
    "INF = 9999999\n",
    "\n",
    "# number of vertices in graph\n",
    "V = 5\n",
    "# create a 2d array of size 5x5\n",
    "G = [[0, 9, 75, 0, 0],\n",
    "     [9, 0, 95, 19, 42],\n",
    "     [75, 95, 0, 51, 66],\n",
    "     [0, 19, 51, 0, 31],\n",
    "     [0, 42, 66, 31, 0]]\n",
    "\n",
    "selected = [0, 0, 0, 0, 0]\n",
    "# set number of edge to 0\n",
    "no_edge = 0\n",
    "\n",
    "# choose 0th vertex and make it true\n",
    "selected[0] = True\n",
    "# print for edge and weight\n",
    "print(\"Edge : Weight\\n\")\n",
    "while (no_edge < V - 1):\n",
    "    minimum = INF\n",
    "    x = 0\n",
    "    y = 0\n",
    "    for i in range(V):\n",
    "        if selected[i]:\n",
    "            for j in range(V):\n",
    "                if ((not selected[j]) and G[i][j]):  \n",
    "                    # not in selected and there is an edge\n",
    "                    if minimum > G[i][j]:\n",
    "                        minimum = G[i][j]\n",
    "                        x = i\n",
    "                        y = j\n",
    "    print(str(x) + \"-\" + str(y) + \":\" + str(G[x][y]))\n",
    "    selected[y] = True\n",
    "    no_edge += 1\n"
   ]
  }
 ],
 "metadata": {
  "kernelspec": {
   "display_name": "Python 3 (ipykernel)",
   "language": "python",
   "name": "python3"
  },
  "language_info": {
   "codemirror_mode": {
    "name": "ipython",
    "version": 3
   },
   "file_extension": ".py",
   "mimetype": "text/x-python",
   "name": "python",
   "nbconvert_exporter": "python",
   "pygments_lexer": "ipython3",
   "version": "3.8.16"
  }
 },
 "nbformat": 4,
 "nbformat_minor": 5
}
